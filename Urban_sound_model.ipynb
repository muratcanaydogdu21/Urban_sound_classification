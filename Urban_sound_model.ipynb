{
  "nbformat": 4,
  "nbformat_minor": 0,
  "metadata": {
    "colab": {
      "provenance": [],
      "mount_file_id": "17tWu_fG0SK3ajpoGlnTQAkqBdMvqrJUv",
      "authorship_tag": "ABX9TyOeAUXBviG9A90scUJnGV90",
      "include_colab_link": true
    },
    "kernelspec": {
      "name": "python3",
      "display_name": "Python 3"
    },
    "language_info": {
      "name": "python"
    }
  },
  "cells": [
    {
      "cell_type": "markdown",
      "metadata": {
        "id": "view-in-github",
        "colab_type": "text"
      },
      "source": [
        "<a href=\"https://colab.research.google.com/github/muratcanaydogdu21/Urban_sound_classification/blob/main/Urban_sound_model.ipynb\" target=\"_parent\"><img src=\"https://colab.research.google.com/assets/colab-badge.svg\" alt=\"Open In Colab\"/></a>"
      ]
    },
    {
      "cell_type": "code",
      "execution_count": 3,
      "metadata": {
        "colab": {
          "base_uri": "https://localhost:8080/"
        },
        "id": "2NQKAemBbiJL",
        "outputId": "e963f8e5-f9c2-4cac-ca23-aea3352feec6"
      },
      "outputs": [
        {
          "output_type": "stream",
          "name": "stdout",
          "text": [
            "Model: \"sequential_1\"\n",
            "_________________________________________________________________\n",
            " Layer (type)                Output Shape              Param #   \n",
            "=================================================================\n",
            " conv2d_3 (Conv2D)           (None, 128, 128, 32)      896       \n",
            "                                                                 \n",
            " max_pooling2d_2 (MaxPooling  (None, 64, 64, 32)       0         \n",
            " 2D)                                                             \n",
            "                                                                 \n",
            " conv2d_4 (Conv2D)           (None, 64, 64, 64)        18496     \n",
            "                                                                 \n",
            " max_pooling2d_3 (MaxPooling  (None, 32, 32, 64)       0         \n",
            " 2D)                                                             \n",
            "                                                                 \n",
            " conv2d_5 (Conv2D)           (None, 32, 32, 64)        36928     \n",
            "                                                                 \n",
            " flatten_1 (Flatten)         (None, 65536)             0         \n",
            "                                                                 \n",
            " dense_3 (Dense)             (None, 64)                4194368   \n",
            "                                                                 \n",
            " dropout_2 (Dropout)         (None, 64)                0         \n",
            "                                                                 \n",
            " dense_4 (Dense)             (None, 64)                4160      \n",
            "                                                                 \n",
            " dropout_3 (Dropout)         (None, 64)                0         \n",
            "                                                                 \n",
            " dense_5 (Dense)             (None, 10)                650       \n",
            "                                                                 \n",
            "=================================================================\n",
            "Total params: 4,255,498\n",
            "Trainable params: 4,255,498\n",
            "Non-trainable params: 0\n",
            "_________________________________________________________________\n"
          ]
        }
      ],
      "source": [
        "import tensorflow as tf\n",
        "from tensorflow import keras\n",
        "import pickle\n",
        "\n",
        "\n",
        "model=tf.keras.Sequential()\n",
        "\n",
        "model.add(tf.keras.layers.Conv2D(32,kernel_size=(3,3),strides=(1,1),padding=\"same\",activation=\"relu\",input_shape=(128,128,3)))\n",
        "\n",
        "model.add(tf.keras.layers.MaxPooling2D(2,2))\n",
        "\n",
        "\n",
        "model.add(tf.keras.layers.Conv2D(64,kernel_size=(3,3),strides=(1,1),padding=\"same\",activation=\"relu\"))\n",
        "\n",
        "model.add(tf.keras.layers.MaxPooling2D(2,2))\n",
        "\n",
        "model.add(tf.keras.layers.Conv2D(64,kernel_size=(3,3),strides=(1,1),padding=\"same\",activation=\"relu\"))\n",
        "\n",
        "\n",
        "model.add(tf.keras.layers.Flatten())\n",
        "\n",
        "\n",
        "model.add(tf.keras.layers.Dense(64,activation=\"relu\"))\n",
        "\n",
        "model.add(tf.keras.layers.Dropout(0.5))\n",
        "\n",
        "model.add(tf.keras.layers.Dense(64,activation=\"relu\"))\n",
        "\n",
        "model.add(tf.keras.layers.Dropout(0.5))\n",
        "\n",
        "model.add(tf.keras.layers.Dense(10,activation=\"softmax\")) \n",
        "\n",
        "model.compile(optimizer=\"adam\", loss=\"sparse_categorical_crossentropy\",metrics=[\"accuracy\"]   )\n",
        "\n",
        "model.summary()"
      ]
    },
    {
      "cell_type": "code",
      "source": [
        "path=\"/content/sample_data\"\n",
        "pickle_in0=open(path+\"X_train.pickle\",\"rb\")\n",
        "X_train=pickle.load(pickle_in0)\n",
        "\n",
        "pickle_in1=open(path+\"X_test.pickle\",\"rb\")\n",
        "X_test=pickle.load(pickle_in1)\n",
        "\n",
        "pickle_in2=open(path+\"X_val.pickle\",\"rb\")\n",
        "X_val=pickle.load(pickle_in2)\n",
        "\n",
        "pickle_in3=open(path+\"y_test.pickle\",\"rb\")\n",
        "y_test=pickle.load(pickle_in3)\n",
        "\n",
        "\n",
        "pickle_in4=open(path+\"y_train.pickle\",\"rb\")\n",
        "y_train=pickle.load(pickle_in4)\n",
        "\n",
        "pickle_in5=open(path+\"y_val.pickle\",\"rb\")\n",
        "y_val=pickle.load(pickle_in5)"
      ],
      "metadata": {
        "id": "2ojYuDOVbyUY"
      },
      "execution_count": null,
      "outputs": []
    },
    {
      "cell_type": "code",
      "source": [
        "import matplotlib.pyplot as plt\n",
        "plt.plot(results.history[\"loss\"],label=\"loss\")\n",
        "#validation loss\n",
        "plt.plot(results.history[\"val_loss\"],label=\"val_loss\")\n",
        "\n",
        "plt.xlabel(\"Epoch\")\n",
        "plt.ylabel(\"loss\")\n",
        "plt.legend()\n",
        "plt.show()"
      ],
      "metadata": {
        "id": "zrM9gMK1i3Pn"
      },
      "execution_count": null,
      "outputs": []
    },
    {
      "cell_type": "code",
      "source": [
        "import matplotlib.pyplot as plt\n",
        "plt.plot(results.history[\"accuracy\"],label=\"accuracy\")\n",
        "#validation accuracy\n",
        "plt.plot(results.history[\"val_accuracy\"],label=\"val_accuracy\")\n",
        "\n",
        "plt.xlabel(\"Epoch\")\n",
        "plt.ylabel(\"Accuracy\")\n",
        "plt.legend()\n",
        "plt.show()"
      ],
      "metadata": {
        "id": "iOrWZGWui5sR"
      },
      "execution_count": null,
      "outputs": []
    },
    {
      "cell_type": "code",
      "source": [
        "score=model.evaluate(X_test,y_test)\n",
        "print('Test loss:', score[0])\n",
        "print('Test accuracy:', score[1])"
      ],
      "metadata": {
        "id": "xX6gyRvFi75L"
      },
      "execution_count": null,
      "outputs": []
    },
    {
      "cell_type": "code",
      "source": [
        "model.save(\"trained_model_urban_sounds_classification\")"
      ],
      "metadata": {
        "id": "QqunJoxpi-E1"
      },
      "execution_count": null,
      "outputs": []
    },
    {
      "cell_type": "code",
      "source": [
        "new_model = tf.keras.models.load_model('/content/trained_model_urban_sounds_classification')\n",
        "\n",
        "# Check its architecture\n",
        "new_model.summary()"
      ],
      "metadata": {
        "id": "il3Ageudi_6d"
      },
      "execution_count": null,
      "outputs": []
    }
  ]
}